{
 "cells": [
  {
   "cell_type": "markdown",
   "metadata": {},
   "source": [
    "# IMPORTING LIBRARIES"
   ]
  },
  {
   "cell_type": "code",
   "execution_count": 1,
   "metadata": {},
   "outputs": [],
   "source": [
    "from selenium import webdriver\n",
    "from webdriver_manager.chrome import ChromeDriverManager\n",
    "import time\n",
    "from selenium.webdriver.chrome.options import Options\n",
    "option = webdriver.ChromeOptions()\n",
    "option.add_argument('headless')\n",
    "from IPython.display import clear_output\n",
    "import cv2\n",
    "from PIL import Image\n",
    "import numpy as np"
   ]
  },
  {
   "cell_type": "markdown",
   "metadata": {},
   "source": [
    "# Opening chrome driver (headless mode)"
   ]
  },
  {
   "cell_type": "code",
   "execution_count": 2,
   "metadata": {},
   "outputs": [
    {
     "name": "stderr",
     "output_type": "stream",
     "text": [
      "[WDM] - Current google-chrome version is 87.0.4280\n",
      "[WDM] - Get LATEST driver version for 87.0.4280\n"
     ]
    },
    {
     "name": "stdout",
     "output_type": "stream",
     "text": [
      " \n"
     ]
    },
    {
     "name": "stderr",
     "output_type": "stream",
     "text": [
      "[WDM] - Driver [C:\\Users\\ND.COM\\.wdm\\drivers\\chromedriver\\win32\\87.0.4280.88\\chromedriver.exe] found in cache\n"
     ]
    }
   ],
   "source": [
    "driver = webdriver.Chrome(ChromeDriverManager().install(),options=option)"
   ]
  },
  {
   "cell_type": "markdown",
   "metadata": {},
   "source": [
    "# Path for saving temp screenshot"
   ]
  },
  {
   "cell_type": "code",
   "execution_count": 3,
   "metadata": {},
   "outputs": [],
   "source": [
    "img_path=\"temp_img.jpg\""
   ]
  },
  {
   "cell_type": "markdown",
   "metadata": {},
   "source": [
    "# Function- Screenshot"
   ]
  },
  {
   "cell_type": "code",
   "execution_count": 4,
   "metadata": {},
   "outputs": [],
   "source": [
    "def take_ss(address):\n",
    "    global img_path,driver\n",
    "    url=f\"https://www.google.com/maps/place/{address}\"\n",
    "    driver.get(url)\n",
    "    time.sleep(2)\n",
    "    driver.save_screenshot(img_path)"
   ]
  },
  {
   "cell_type": "markdown",
   "metadata": {},
   "source": [
    "# Function- Image processing "
   ]
  },
  {
   "cell_type": "code",
   "execution_count": 5,
   "metadata": {},
   "outputs": [],
   "source": [
    "def image_processing():\n",
    "    global img_path\n",
    "    img=cv2.imread(img_path)\n",
    "    img=img[:,408:]\n",
    "    \n",
    "    #img to hsv\n",
    "    img_hsv=cv2.cvtColor(img, cv2.COLOR_BGR2HSV)\n",
    "\n",
    "    # lower mask (0-10)\n",
    "    lower_red = np.array([0,50,50])\n",
    "    upper_red = np.array([10,255,255])\n",
    "    mask0 = cv2.inRange(img_hsv, lower_red, upper_red)\n",
    "\n",
    "    # upper mask (170-180)\n",
    "    lower_red = np.array([170,50,50])\n",
    "    upper_red = np.array([180,255,255])\n",
    "    mask1 = cv2.inRange(img_hsv, lower_red, upper_red)\n",
    "\n",
    "    # join my masks\n",
    "    mask = mask0+mask1\n",
    "\n",
    "    # set my output img to zero everywhere except my mask\n",
    "    output_img = img.copy()\n",
    "    output_img[np.where(mask==0)] = 0\n",
    "\n",
    "    # or your HSV image, which I *believe* is what you want\n",
    "    output_hsv = img_hsv.copy()\n",
    "    output_hsv[np.where(mask==0)] = 0\n",
    "    \n",
    "    h, s, v1 = cv2.split(output_hsv)\n",
    "    \n",
    "    contours, hierarchy = cv2.findContours(v1,cv2.RETR_EXTERNAL, cv2.CHAIN_APPROX_NONE) \n",
    "    null=True\n",
    "    new_contours=[]\n",
    "    img_contour=img.copy()\n",
    "    img_fill_contour=img.copy()\n",
    "\n",
    "    for con in contours:\n",
    "        area = cv2.contourArea(con)\n",
    "        x,y,w,h = cv2.boundingRect(con)\n",
    "        if h>20 and w>30:\n",
    "            null=False\n",
    "            new_contours.append(con)\n",
    "            cv2.drawContours(img_contour, con, -1, (40, 245, 255),3) \n",
    "\n",
    "    return null"
   ]
  },
  {
   "cell_type": "markdown",
   "metadata": {},
   "source": [
    "# Area Classification (Yes/No)"
   ]
  },
  {
   "cell_type": "code",
   "execution_count": null,
   "metadata": {
    "scrolled": true
   },
   "outputs": [],
   "source": [
    "#MAIN\n",
    "while(True):\n",
    "    address=input(\"Note:\\n1-Make sure you have connected to a stable internet connection.\\n2-Spelling should be correct\\n3-Write area along with city separated by ',' for accurate classification e.g 'saddar, karachi' \\n\\nEnter area/address: \")\n",
    "    print(\"\\nProcessing..\")\n",
    "    take_ss(address)\n",
    "    null=image_processing()\n",
    "\n",
    "    if null:\n",
    "        clear_output(wait=True)\n",
    "        print(f\"****************** RESULT ******************\\n\\nArea: {address.upper()}\\nIs it an area according to Google maps: NO\")\n",
    "    else:\n",
    "        clear_output(wait=True)\n",
    "        print(f\"****************** RESULT ******************\\n\\nArea: {address.upper()}\\nIs it an area according to Google maps: YES\")\n",
    "    print(\"\\n********************************************\")\n",
    "    print(\"\\n\\nDo you want to check again?\\n\\nPress C to continue or anyother key to exit: \")\n",
    "    check=input(\"\").lower()\n",
    "    if check==\"c\":\n",
    "        clear_output(wait=True)\n",
    "        pass\n",
    "    else:\n",
    "        clear_output(wait=True)\n",
    "        print(\"Thank you for trying!\")\n",
    "        break\n",
    "    \n",
    "    "
   ]
  }
 ],
 "metadata": {
  "kernelspec": {
   "display_name": "Python 3",
   "language": "python",
   "name": "python3"
  },
  "language_info": {
   "codemirror_mode": {
    "name": "ipython",
    "version": 3
   },
   "file_extension": ".py",
   "mimetype": "text/x-python",
   "name": "python",
   "nbconvert_exporter": "python",
   "pygments_lexer": "ipython3",
   "version": "3.8.3"
  },
  "varInspector": {
   "cols": {
    "lenName": 16,
    "lenType": 16,
    "lenVar": 40
   },
   "kernels_config": {
    "python": {
     "delete_cmd_postfix": "",
     "delete_cmd_prefix": "del ",
     "library": "var_list.py",
     "varRefreshCmd": "print(var_dic_list())"
    },
    "r": {
     "delete_cmd_postfix": ") ",
     "delete_cmd_prefix": "rm(",
     "library": "var_list.r",
     "varRefreshCmd": "cat(var_dic_list()) "
    }
   },
   "types_to_exclude": [
    "module",
    "function",
    "builtin_function_or_method",
    "instance",
    "_Feature"
   ],
   "window_display": false
  }
 },
 "nbformat": 4,
 "nbformat_minor": 4
}
